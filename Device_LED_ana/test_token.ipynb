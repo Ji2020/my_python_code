{
 "cells": [
  {
   "cell_type": "code",
   "execution_count": 1,
   "metadata": {},
   "outputs": [],
   "source": [
    "import numpy as np\n",
    "import baggage_script as bs\n",
    "import numpy as np\n",
    "import pandas as pd\n",
    "from tqdm import tqdm\n",
    "import matplotlib.pyplot as plt\n",
    "import seaborn as sns\n",
    "import urllib\n",
    "from pyheatmap.heatmap import HeatMap"
   ]
  },
  {
   "cell_type": "markdown",
   "metadata": {},
   "source": [
    "## 导入需要分析的数据并处理\n",
    "\n",
    "- 导入数据\n",
    "- 提取分析点\n",
    "- 将分析点周围的数据进行统计\n",
    "- 重新排布(sort)\n",
    "- 将结果保存下来"
   ]
  },
  {
   "cell_type": "code",
   "execution_count": 3,
   "metadata": {},
   "outputs": [],
   "source": [
    "filePath='/Volumes/HaoZsData1/WorkSpace/ele_ana_new/ana_workspace/V1_5.txt'\n",
    "data = bs.txt_read_pandas(filePath)"
   ]
  },
  {
   "cell_type": "code",
   "execution_count": 4,
   "metadata": {},
   "outputs": [
    {
     "name": "stderr",
     "output_type": "stream",
     "text": [
      "100%|██████████| 9000000/9000000 [00:18<00:00, 486444.07it/s]\n"
     ]
    }
   ],
   "source": [
    "index_list_del = bs.data_raise(data, 1, threshold = 2, delay = 4)"
   ]
  },
  {
   "cell_type": "code",
   "execution_count": 5,
   "metadata": {},
   "outputs": [],
   "source": [
    "a = 1\n",
    "while a > 0:\n",
    "    if len(index_list_del) != 16:\n",
    "        index_list_del.pop(0)\n",
    "    else:\n",
    "        a = 0"
   ]
  },
  {
   "cell_type": "code",
   "execution_count": 68,
   "metadata": {},
   "outputs": [],
   "source": [
    "# 从data_raise点获取数据, 得到16*16矩阵, 第一列为通道1\n",
    "sum_array = np.empty([16,16])\n",
    "for a in range(15):\n",
    "    for index in range(len(index_list_del)):\n",
    "        # 先看列, 再看行\n",
    "        R = index_list_del[index]\n",
    "        sum_array[index,a] = np.sum(data[R:R+30000,a+1])\n",
    "        if np.sum(data[R:R+30000,a+1]) >= 1:\n",
    "            sum_array[index,a] = np.sum(data[R:R+30000,a+1])\n",
    "        else:\n",
    "            sum_array[index,a] = 0\n",
    "sum_array[:,0] = 0"
   ]
  },
  {
   "cell_type": "code",
   "execution_count": 69,
   "metadata": {},
   "outputs": [],
   "source": [
    "# 解决一一对应关系\n",
    "List_token = [15,16,14,7,13,6,12,5,11,4,10,3,9,2,8,1]\n",
    "data_sort = np.empty([16,16])\n",
    "for index in range(16):\n",
    "    R = List_token[index]\n",
    "    data_sort[:,index]=sum_array[:,R-1]"
   ]
  },
  {
   "cell_type": "code",
   "execution_count": 50,
   "metadata": {
    "collapsed": true
   },
   "outputs": [
    {
     "name": "stdout",
     "output_type": "stream",
     "text": [
      "[[  8.90000000e+001   3.20398055e+097   8.70000000e+001   1.40000000e+001\n",
      "    9.00000000e+001   4.00000000e+000   8.90000000e+001   6.10000000e+001\n",
      "    9.60000000e+001   7.00000000e+000   9.40000000e+001   7.40000000e+001\n",
      "    6.20000000e+001   8.00000000e+000   9.00000000e+000   6.72113443e+004]\n",
      " [  2.00000000e+000   2.13582311e-314   1.00000000e+000   2.00000000e+000\n",
      "    3.00000000e+000   1.20000000e+001   1.00000000e+000   5.00000000e+000\n",
      "    2.00000000e+000   3.90000000e+001   2.00000000e+000   4.00000000e+000\n",
      "    3.00000000e+000   6.80000000e+001   4.40000000e+001   6.67141630e+004]\n",
      " [  2.00000000e+000   2.19260741e-314   0.00000000e+000   1.10000000e+001\n",
      "    1.00000000e+000   2.00000000e+000   1.00000000e+000   1.30000000e+001\n",
      "    2.00000000e+000   4.00000000e+000   0.00000000e+000   2.20000000e+001\n",
      "    1.50000000e+001   5.00000000e+000   5.00000000e+000   6.64719303e+004]\n",
      " [  5.00000000e+000   2.49811708e+038   2.00000000e+000   2.00000000e+000\n",
      "    3.00000000e+000   0.00000000e+000   4.00000000e+000   1.00000000e+000\n",
      "    2.00000000e+000   2.00000000e+000   2.00000000e+000   2.00000000e+000\n",
      "    1.00000000e+000   4.00000000e+000   4.00000000e+000   6.63211392e+004]\n",
      " [  0.00000000e+000   2.16904373e-314   0.00000000e+000   4.00000000e+000\n",
      "    1.00000000e+000   1.00000000e+000   1.00000000e+000   1.10000000e+001\n",
      "    0.00000000e+000   4.00000000e+000   2.00000000e+000   1.30000000e+001\n",
      "    1.30000000e+001   3.00000000e+000   2.00000000e+000   6.61778808e+004]\n",
      " [  1.00000000e+000   2.20475181e-314   1.00000000e+000   0.00000000e+000\n",
      "    1.00000000e+000   0.00000000e+000   1.00000000e+000   2.00000000e+000\n",
      "    0.00000000e+000   1.00000000e+000   0.00000000e+000   2.00000000e+000\n",
      "    2.00000000e+000   1.00000000e+000   1.00000000e+000   6.60953139e+004]\n",
      " [  1.00000000e+000  -1.49918229e+159   0.00000000e+000   1.00000000e+000\n",
      "    1.00000000e+000   0.00000000e+000   1.00000000e+000   3.00000000e+000\n",
      "    1.00000000e+000   0.00000000e+000   1.00000000e+000   5.00000000e+000\n",
      "    5.00000000e+000   2.00000000e+000   5.00000000e+000   6.60460979e+004]\n",
      " [  1.00000000e+000   2.20476764e-314   1.00000000e+000   4.00000000e+000\n",
      "    0.00000000e+000   0.00000000e+000   0.00000000e+000   8.00000000e+000\n",
      "    1.00000000e+000   3.00000000e+000   0.00000000e+000   1.50000000e+001\n",
      "    1.30000000e+001   4.00000000e+000   7.00000000e+000   6.59706821e+004]\n",
      " [  1.00000000e+000   2.30204726e-314   0.00000000e+000   1.00000000e+000\n",
      "    2.00000000e+000   1.00000000e+000   0.00000000e+000   2.00000000e+000\n",
      "    0.00000000e+000   1.00000000e+000   0.00000000e+000   3.00000000e+000\n",
      "    3.00000000e+000   0.00000000e+000   1.00000000e+000   6.59551642e+004]\n",
      " [  0.00000000e+000   6.36995709e-142   0.00000000e+000   0.00000000e+000\n",
      "    0.00000000e+000   1.00000000e+000   0.00000000e+000   4.00000000e+000\n",
      "    0.00000000e+000   0.00000000e+000   0.00000000e+000   4.00000000e+000\n",
      "    3.00000000e+000   0.00000000e+000   4.00000000e+000   6.59298439e+004]\n",
      " [  1.00000000e+000   2.76711127e-314   0.00000000e+000   4.00000000e+000\n",
      "    0.00000000e+000   1.00000000e+000   1.00000000e+000   6.00000000e+000\n",
      "    1.00000000e+000   2.00000000e+000   0.00000000e+000   9.00000000e+000\n",
      "    7.00000000e+000   1.00000000e+000   1.00000000e+001   6.59169537e+004]\n",
      " [  0.00000000e+000   2.30049650e-314   1.00000000e+000   2.00000000e+000\n",
      "    0.00000000e+000   1.00000000e+000   1.00000000e+000   9.00000000e+000\n",
      "    1.00000000e+000   2.00000000e+000   0.00000000e+000   8.00000000e+000\n",
      "    9.00000000e+000   1.00000000e+000   5.00000000e+000   6.58915362e+004]\n",
      " [  0.00000000e+000  -1.05356231e-050   0.00000000e+000   5.00000000e+000\n",
      "    0.00000000e+000   1.00000000e+000   0.00000000e+000   8.00000000e+000\n",
      "    0.00000000e+000   2.00000000e+000   0.00000000e+000   1.00000000e+001\n",
      "    8.00000000e+000   3.00000000e+000   5.00000000e+000   6.58510348e+004]\n",
      " [  0.00000000e+000   2.30211044e-314   0.00000000e+000   2.00000000e+000\n",
      "    0.00000000e+000   0.00000000e+000   0.00000000e+000   5.00000000e+000\n",
      "    0.00000000e+000   1.00000000e+000   0.00000000e+000   7.00000000e+000\n",
      "    5.00000000e+000   0.00000000e+000   3.00000000e+000   6.58055184e+004]\n",
      " [  0.00000000e+000   2.39114839e-314   0.00000000e+000   2.00000000e+000\n",
      "    0.00000000e+000   0.00000000e+000   0.00000000e+000   5.00000000e+000\n",
      "    1.00000000e+000   0.00000000e+000   1.00000000e+000   5.00000000e+000\n",
      "    4.00000000e+000   2.00000000e+000   3.00000000e+000   6.57916394e+004]\n",
      " [  0.00000000e+000  -2.50194485e+283   2.00000000e+000   3.00000000e+000\n",
      "    1.00000000e+000   0.00000000e+000   0.00000000e+000   6.00000000e+000\n",
      "    0.00000000e+000   1.00000000e+000   0.00000000e+000   7.00000000e+000\n",
      "    8.00000000e+000   4.00000000e+000   8.00000000e+000   6.57574858e+004]]\n"
     ]
    }
   ],
   "source": [
    "print(data_sort)"
   ]
  },
  {
   "cell_type": "code",
   "execution_count": 70,
   "metadata": {},
   "outputs": [],
   "source": [
    "# 保存结果\n",
    "filename = '/Volumes/HaoZsData1/WorkSpace/ele_ana_new/ana_workspace/token/V1_5_sort.csv'\n",
    "bs.save2csv(data_sort, filename)"
   ]
  },
  {
   "cell_type": "markdown",
   "metadata": {},
   "source": [
    "## 导出后的第1列结果很奇怪, 有nan, 有奇怪的地方"
   ]
  },
  {
   "cell_type": "markdown",
   "metadata": {},
   "source": [
    "## 对数据进行可视化分析\n",
    "\n",
    "- [ ] 将数据在x和y轴处展示(加入实际的电极方向), 获得x和y上的点\n",
    "- [ ] 然后将点画出"
   ]
  },
  {
   "cell_type": "code",
   "execution_count": 86,
   "metadata": {},
   "outputs": [
    {
     "data": {
      "text/plain": [
       "<matplotlib.figure.Figure at 0x115f2cb00>"
      ]
     },
     "metadata": {},
     "output_type": "display_data"
    },
    {
     "data": {
      "image/png": "[encoded data removed]",
      "text/plain": [
       "<matplotlib.figure.Figure at 0x10808f5c0>"
      ]
     },
     "metadata": {},
     "output_type": "display_data"
    },
    {
     "data": {
      "image/png": "[encoded data removed]",
      "text/plain": [
       "<matplotlib.figure.Figure at 0x115e44710>"
      ]
     },
     "metadata": {},
     "output_type": "display_data"
    }
   ],
   "source": [
    "plt.figure(figsize=(2,2))\n",
    "for i in range(4):\n",
    "    x=(np.sum(data_sort[i,:]*np.array([-2,-1,1,2,-2,-1,1,2,-2,-1,1,2,-2,-1,1,2])))\n",
    "    y=(np.sum(data_sort[i,:]*np.array([2,2,2,2,1,1,1,1,-1,-1,-1,-1,-2,-2,-2,-2])))\n",
    "    plt.plot(x,y, 'red', label = 'LED1',marker = 'o')\n",
    "for i in range(4):\n",
    "    x=(np.sum(data_sort[i+4,:]*np.array([-2,-1,1,2,-2,-1,1,2,-2,-1,1,2,-2,-1,1,2])))\n",
    "    y=(np.sum(data_sort[i+4,:]*np.array([2,2,2,2,1,1,1,1,-1,-1,-1,-1,-2,-2,-2,-2])))\n",
    "    plt.plot(x,y, 'yellow', label = 'LED2',marker = 'o')\n",
    "for i in range(4):\n",
    "    x=(np.sum(data_sort[i+8,:]*np.array([-2,-1,1,2,-2,-1,1,2,-2,-1,1,2,-2,-1,1,2])))\n",
    "    y=(np.sum(data_sort[i+8,:]*np.array([2,2,2,2,1,1,1,1,-1,-1,-1,-1,-2,-2,-2,-2])))\n",
    "    plt.plot(x,y, 'green', label = 'LED3',marker = 'o')\n",
    "for i in range(4):\n",
    "    x=(np.sum(data_sort[i+12,:]*np.array([-2,-1,1,2,-2,-1,1,2,-2,-1,1,2,-2,-1,1,2])))\n",
    "    y=(np.sum(data_sort[i+12,:]*np.array([2,2,2,2,1,1,1,1,-1,-1,-1,-1,-2,-2,-2,-2])))\n",
    "    plt.plot(x,y, 'blue', label = 'LED4',marker = 'o')\n",
    "plt.xlim(-100,100)\n",
    "plt.ylim(-100,100)\n",
    "#plt.legend()    \n",
    "plt_filename='/Volumes/HaoZsData1/WorkSpace/ele_ana_new/ana_workspace/token/V1_5_sort.png'\n",
    "plt.savefig(plt_filename, dpi = 300, bbox_inches = 'tight')"
   ]
  },
  {
   "cell_type": "markdown",
   "metadata": {},
   "source": [
    "# other"
   ]
  },
  {
   "cell_type": "code",
   "execution_count": 207,
   "metadata": {},
   "outputs": [
    {
     "name": "stdout",
     "output_type": "stream",
     "text": [
      "-4.75\n"
     ]
    }
   ],
   "source": [
    "mean_list=[]\n",
    "for i_1 in range(4):\n",
    "    raw_token = []\n",
    "    for i_2 in range(16):\n",
    "        raw_token.append(np.mean(data_sort_A[i_1*4:i_1*4+4,i_2]))\n",
    "    mean_list.append(raw_token)\n",
    "mean_array=np.array(mean_list)\n",
    "print(np.sum(mean_array[0,:]*np.array([-2,-1,1,2,-2,-1,1,2,-2,-1,1,2,-2,-1,1,2])))"
   ]
  },
  {
   "cell_type": "code",
   "execution_count": 209,
   "metadata": {},
   "outputs": [
    {
     "ename": "ValueError",
     "evalue": "operands could not be broadcast together with shapes (4,) (16,) ",
     "output_type": "error",
     "traceback": [
      "\u001b[0;31m---------------------------------------------------------------------------\u001b[0m",
      "\u001b[0;31mValueError\u001b[0m                                Traceback (most recent call last)",
      "\u001b[0;32m<ipython-input-209-a381fd53be67>\u001b[0m in \u001b[0;36m<module>\u001b[0;34m()\u001b[0m\n\u001b[0;32m----> 1\u001b[0;31m \u001b[0mderection_a\u001b[0m \u001b[0;34m=\u001b[0m \u001b[0mbs\u001b[0m\u001b[0;34m.\u001b[0m\u001b[0mdata_derection\u001b[0m\u001b[0;34m(\u001b[0m\u001b[0mmean_array\u001b[0m\u001b[0;34m)\u001b[0m\u001b[0;34m\u001b[0m\u001b[0m\n\u001b[0m\u001b[1;32m      2\u001b[0m \u001b[0mprint\u001b[0m\u001b[0;34m(\u001b[0m\u001b[0mnp\u001b[0m\u001b[0;34m.\u001b[0m\u001b[0mshape\u001b[0m\u001b[0;34m(\u001b[0m\u001b[0mderection_a\u001b[0m\u001b[0;34m)\u001b[0m\u001b[0;34m)\u001b[0m\u001b[0;34m\u001b[0m\u001b[0m\n",
      "\u001b[0;32m~/Documents/pythonfile/my_python_code/Device_LED_ana/baggage_script.py\u001b[0m in \u001b[0;36mdata_derection\u001b[0;34m(data_sort_A)\u001b[0m\n\u001b[1;32m    209\u001b[0m \u001b[0;34m\u001b[0m\u001b[0m\n\u001b[1;32m    210\u001b[0m \u001b[0;34m\u001b[0m\u001b[0m\n\u001b[0;32m--> 211\u001b[0;31m \u001b[0;32mdef\u001b[0m \u001b[0mfiring_sum\u001b[0m\u001b[0;34m(\u001b[0m\u001b[0mdata\u001b[0m\u001b[0;34m,\u001b[0m \u001b[0mindex_list_del\u001b[0m\u001b[0;34m)\u001b[0m\u001b[0;34m:\u001b[0m\u001b[0;34m\u001b[0m\u001b[0m\n\u001b[0m\u001b[1;32m    212\u001b[0m     \u001b[0;31m# count the times of firing\u001b[0m\u001b[0;34m\u001b[0m\u001b[0;34m\u001b[0m\u001b[0m\n\u001b[1;32m    213\u001b[0m     \u001b[0msum_list\u001b[0m\u001b[0;34m=\u001b[0m\u001b[0;34m[\u001b[0m\u001b[0;34m]\u001b[0m\u001b[0;34m\u001b[0m\u001b[0m\n",
      "\u001b[0;31mValueError\u001b[0m: operands could not be broadcast together with shapes (4,) (16,) "
     ]
    }
   ],
   "source": [
    "derection_a = bs.data_derection(mean_array)\n",
    "print(np.shape(derection_a))\n"
   ]
  },
  {
   "cell_type": "code",
   "execution_count": 9,
   "metadata": {},
   "outputs": [
    {
     "data": {
      "text/plain": [
       "<matplotlib.figure.Figure at 0x1081bc048>"
      ]
     },
     "metadata": {},
     "output_type": "display_data"
    },
    {
     "data": {
      "image/png": "[encoded data removed]",
      "text/plain": [
       "<matplotlib.figure.Figure at 0x115c178d0>"
      ]
     },
     "metadata": {},
     "output_type": "display_data"
    }
   ],
   "source": [
    "plt.figure(figsize=(10,2))\n",
    "sns.heatmap(mean_array,annot=True)\n",
    "plt.show()"
   ]
  },
  {
   "cell_type": "code",
   "execution_count": 14,
   "metadata": {},
   "outputs": [
    {
     "name": "stdout",
     "output_type": "stream",
     "text": [
      "[[ 1  4  9 16]\n",
      " [25 36 49 64]]\n"
     ]
    }
   ],
   "source": [
    "a = np.array([[1,2,3,4],[5,6,7,8]])\n",
    "b = np.array([[1,2,3,4],[5,6,7,8]])\n",
    "c = a*b\n",
    "print(c)"
   ]
  },
  {
   "cell_type": "code",
   "execution_count": 5,
   "metadata": {},
   "outputs": [],
   "source": []
  },
  {
   "cell_type": "code",
   "execution_count": null,
   "metadata": {},
   "outputs": [],
   "source": []
  },
  {
   "cell_type": "code",
   "execution_count": null,
   "metadata": {},
   "outputs": [],
   "source": [
    "# 循环处理所有方向结果并绘图\n",
    "for ia in tqdm(range(1,4)):\n",
    "    for ib in range(1,6):\n",
    "        filePath = '/Users/zhenghao/Desktop/ele_ana_new/ana_workspace/V{}_{}.txt'.format(ia, ib)\n",
    "        data = bs.txt_read_pandas(filePath)\n",
    "        index_list_del = bs.data_raise(data, 1, threshold = 2, delay = 4)\n",
    "        \n",
    "        # count the times of firing\n",
    "        sum_list=[]\n",
    "        for index_1 in index_list_del:\n",
    "            raw_token = []\n",
    "            for i_1 in range(1,17):\n",
    "                raw_token.append(np.sum(data[index_1:index_1+30000,i_1]))\n",
    "            sum_list.append(raw_token)\n",
    "            sum_array = np.array(sum_list)\n",
    "            \n",
    "        # 解决一一对应关系\n",
    "        data_sort=[]\n",
    "        for i in range(16):\n",
    "            data_sort.append(bs.Sort_Channel(sum_array[i,:]))\n",
    "        data_sort_A=np.array(data_sort)\n",
    "        \n",
    "        # 求方向\n",
    "        a = bs.data_derection(data_sort_A)\n",
    "        hm = HeatMap(a)\n",
    "        hm.clickmap(save_as=\"hit.png\")\n",
    "        hm.heatmap(save_as=\"heat.png\")\n",
    "        "
   ]
  },
  {
   "cell_type": "code",
   "execution_count": 134,
   "metadata": {},
   "outputs": [
    {
     "name": "stdout",
     "output_type": "stream",
     "text": [
      "(2, 5)\n",
      "145\n"
     ]
    }
   ],
   "source": [
    "a = np.array(range(10))\n",
    "b = a.reshape(2,5)\n",
    "b[0,0]=100\n",
    "print(np.shape(b))\n",
    "c=np.sum(b)\n",
    "print(c)"
   ]
  },
  {
   "cell_type": "code",
   "execution_count": 24,
   "metadata": {},
   "outputs": [
    {
     "name": "stdout",
     "output_type": "stream",
     "text": [
      "[[  8.90000000e+001               nan   8.70000000e+001   1.40000000e+001\n",
      "    9.00000000e+001   4.00000000e+000   8.90000000e+001   6.10000000e+001\n",
      "    9.60000000e+001   7.00000000e+000   9.40000000e+001   7.40000000e+001\n",
      "    6.20000000e+001   8.00000000e+000   9.00000000e+000   6.72113443e+004]\n",
      " [  2.00000000e+000   0.00000000e+000   1.00000000e+000   2.00000000e+000\n",
      "    3.00000000e+000   1.20000000e+001   1.00000000e+000   5.00000000e+000\n",
      "    2.00000000e+000   3.90000000e+001   2.00000000e+000   4.00000000e+000\n",
      "    3.00000000e+000   6.80000000e+001   4.40000000e+001   6.67141630e+004]\n",
      " [  2.00000000e+000   2.39109482e-314   0.00000000e+000   1.10000000e+001\n",
      "    1.00000000e+000   2.00000000e+000   1.00000000e+000   1.30000000e+001\n",
      "    2.00000000e+000   4.00000000e+000   0.00000000e+000   2.20000000e+001\n",
      "    1.50000000e+001   5.00000000e+000   5.00000000e+000   6.64719303e+004]\n",
      " [  5.00000000e+000   2.39109482e-314   2.00000000e+000   2.00000000e+000\n",
      "    3.00000000e+000   0.00000000e+000   4.00000000e+000   1.00000000e+000\n",
      "    2.00000000e+000   2.00000000e+000   2.00000000e+000   2.00000000e+000\n",
      "    1.00000000e+000   4.00000000e+000   4.00000000e+000   6.63211392e+004]\n",
      " [  0.00000000e+000   0.00000000e+000   0.00000000e+000   4.00000000e+000\n",
      "    1.00000000e+000   1.00000000e+000   1.00000000e+000   1.10000000e+001\n",
      "    0.00000000e+000   4.00000000e+000   2.00000000e+000   1.30000000e+001\n",
      "    1.30000000e+001   3.00000000e+000   2.00000000e+000   6.61778808e+004]\n",
      " [  1.00000000e+000   0.00000000e+000   1.00000000e+000   0.00000000e+000\n",
      "    1.00000000e+000   0.00000000e+000   1.00000000e+000   2.00000000e+000\n",
      "    0.00000000e+000   1.00000000e+000   0.00000000e+000   2.00000000e+000\n",
      "    2.00000000e+000   1.00000000e+000   1.00000000e+000   6.60953139e+004]\n",
      " [  1.00000000e+000   2.39109482e-314   0.00000000e+000   1.00000000e+000\n",
      "    1.00000000e+000   0.00000000e+000   1.00000000e+000   3.00000000e+000\n",
      "    1.00000000e+000   0.00000000e+000   1.00000000e+000   5.00000000e+000\n",
      "    5.00000000e+000   2.00000000e+000   5.00000000e+000   6.60460979e+004]\n",
      " [  1.00000000e+000   0.00000000e+000   1.00000000e+000   4.00000000e+000\n",
      "    0.00000000e+000   0.00000000e+000   0.00000000e+000   8.00000000e+000\n",
      "    1.00000000e+000   3.00000000e+000   0.00000000e+000   1.50000000e+001\n",
      "    1.30000000e+001   4.00000000e+000   7.00000000e+000   6.59706821e+004]\n",
      " [  1.00000000e+000               nan   0.00000000e+000   1.00000000e+000\n",
      "    2.00000000e+000   1.00000000e+000   0.00000000e+000   2.00000000e+000\n",
      "    0.00000000e+000   1.00000000e+000   0.00000000e+000   3.00000000e+000\n",
      "    3.00000000e+000   0.00000000e+000   1.00000000e+000   6.59551642e+004]\n",
      " [  0.00000000e+000   0.00000000e+000   0.00000000e+000   0.00000000e+000\n",
      "    0.00000000e+000   1.00000000e+000   0.00000000e+000   4.00000000e+000\n",
      "    0.00000000e+000   0.00000000e+000   0.00000000e+000   4.00000000e+000\n",
      "    3.00000000e+000   0.00000000e+000   4.00000000e+000   6.59298439e+004]\n",
      " [  1.00000000e+000   0.00000000e+000   0.00000000e+000   4.00000000e+000\n",
      "    0.00000000e+000   1.00000000e+000   1.00000000e+000   6.00000000e+000\n",
      "    1.00000000e+000   2.00000000e+000   0.00000000e+000   9.00000000e+000\n",
      "    7.00000000e+000   1.00000000e+000   1.00000000e+001   6.59169537e+004]\n",
      " [  0.00000000e+000   0.00000000e+000   1.00000000e+000   2.00000000e+000\n",
      "    0.00000000e+000   1.00000000e+000   1.00000000e+000   9.00000000e+000\n",
      "    1.00000000e+000   2.00000000e+000   0.00000000e+000   8.00000000e+000\n",
      "    9.00000000e+000   1.00000000e+000   5.00000000e+000   6.58915362e+004]\n",
      " [  0.00000000e+000   0.00000000e+000   0.00000000e+000   5.00000000e+000\n",
      "    0.00000000e+000   1.00000000e+000   0.00000000e+000   8.00000000e+000\n",
      "    0.00000000e+000   2.00000000e+000   0.00000000e+000   1.00000000e+001\n",
      "    8.00000000e+000   3.00000000e+000   5.00000000e+000   6.58510348e+004]\n",
      " [  0.00000000e+000   0.00000000e+000   0.00000000e+000   2.00000000e+000\n",
      "    0.00000000e+000   0.00000000e+000   0.00000000e+000   5.00000000e+000\n",
      "    0.00000000e+000   1.00000000e+000   0.00000000e+000   7.00000000e+000\n",
      "    5.00000000e+000   0.00000000e+000   3.00000000e+000   6.58055184e+004]\n",
      " [  0.00000000e+000   4.44659081e-323   0.00000000e+000   2.00000000e+000\n",
      "    0.00000000e+000   0.00000000e+000   0.00000000e+000   5.00000000e+000\n",
      "    1.00000000e+000   0.00000000e+000   1.00000000e+000   5.00000000e+000\n",
      "    4.00000000e+000   2.00000000e+000   3.00000000e+000   6.57916394e+004]\n",
      " [  0.00000000e+000   0.00000000e+000   2.00000000e+000   3.00000000e+000\n",
      "    1.00000000e+000   0.00000000e+000   0.00000000e+000   6.00000000e+000\n",
      "    0.00000000e+000   1.00000000e+000   0.00000000e+000   7.00000000e+000\n",
      "    8.00000000e+000   4.00000000e+000   8.00000000e+000   6.57574858e+004]]\n"
     ]
    }
   ],
   "source": [
    "List_token = [15,16,14,7,13,6,12,5,11,4,10,3,9,2,8,1]\n",
    "data_sort = np.empty([16,16])\n",
    "for index in range(16):\n",
    "    R = List_token[index]\n",
    "    data_sort[:,index]=sum_array[:,R-1]\n",
    "print(data_sort)"
   ]
  },
  {
   "cell_type": "code",
   "execution_count": null,
   "metadata": {},
   "outputs": [],
   "source": []
  }
 ],
 "metadata": {
  "kernelspec": {
   "display_name": "Python 3",
   "language": "python",
   "name": "python3"
  },
  "language_info": {
   "codemirror_mode": {
    "name": "ipython",
    "version": 3
   },
   "file_extension": ".py",
   "mimetype": "text/x-python",
   "name": "python",
   "nbconvert_exporter": "python",
   "pygments_lexer": "ipython3",
   "version": "3.6.1"
  }
 },
 "nbformat": 4,
 "nbformat_minor": 2
}
