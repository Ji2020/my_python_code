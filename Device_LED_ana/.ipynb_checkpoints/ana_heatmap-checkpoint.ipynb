{
 "cells": [
  {
   "cell_type": "code",
   "execution_count": 4,
   "metadata": {},
   "outputs": [
    {
     "name": "stderr",
     "output_type": "stream",
     "text": [
      "100%|██████████| 9000000/9000000 [00:16<00:00, 535859.54it/s]\n"
     ]
    },
    {
     "name": "stdout",
     "output_type": "stream",
     "text": [
      "[863420, 1014652, 1165883, 1317112, 1468342, 1619570, 1770800, 1922030, 2073260, 2224490, 2375720, 2526950, 2678179, 2829407, 2980637, 3131867]\n"
     ]
    },
    {
     "name": "stderr",
     "output_type": "stream",
     "text": [
      "100%|██████████| 9000000/9000000 [00:16<00:00, 536115.25it/s]\n"
     ]
    },
    {
     "name": "stdout",
     "output_type": "stream",
     "text": [
      "[898520, 1049750, 1200980, 1352210, 1503440, 1654670, 1805900, 1957129, 2108357, 2259587, 2410817, 2562047, 2713277, 2864506, 3015734, 3166964]\n"
     ]
    },
    {
     "name": "stderr",
     "output_type": "stream",
     "text": [
      "100%|██████████| 9000000/9000000 [00:16<00:00, 549554.69it/s]\n"
     ]
    },
    {
     "name": "stdout",
     "output_type": "stream",
     "text": [
      "[925751, 1076982, 1228212, 1379441, 1530671, 1681901, 1833131, 1984361, 2135591, 2286821, 2438049, 2589278, 2740508, 2891738, 3042968, 3194198]\n"
     ]
    },
    {
     "name": "stderr",
     "output_type": "stream",
     "text": [
      "100%|██████████| 9000000/9000000 [00:16<00:00, 545166.50it/s]\n"
     ]
    },
    {
     "name": "stdout",
     "output_type": "stream",
     "text": [
      "[935913, 1087145, 1238375, 1389605, 1540834, 1692063, 1843292, 1994522, 2145752, 2296982, 2448212, 2599440, 2750669, 2901899, 3053129, 3204359]\n"
     ]
    },
    {
     "name": "stderr",
     "output_type": "stream",
     "text": [
      "100%|██████████| 9000000/9000000 [00:16<00:00, 542699.38it/s]\n"
     ]
    },
    {
     "name": "stdout",
     "output_type": "stream",
     "text": [
      "[1556675, 1709720, 1860950, 2012180, 2163410, 2314640, 2465869, 2617097, 2768327, 2919557, 3070787, 3222017, 3373246, 3524474, 3675704, 3826934]\n"
     ]
    },
    {
     "name": "stderr",
     "output_type": "stream",
     "text": [
      "100%|██████████| 9000000/9000000 [00:16<00:00, 551322.45it/s]\n"
     ]
    },
    {
     "name": "stdout",
     "output_type": "stream",
     "text": [
      "[279248, 430479, 581708, 732938, 884168, 1035398, 1186628, 1337858, 1489085, 1640315, 1791545, 1942775, 2094005, 2245233, 2396462, 2547692]\n"
     ]
    },
    {
     "name": "stderr",
     "output_type": "stream",
     "text": [
      "100%|██████████| 9000000/9000000 [00:16<00:00, 548926.79it/s]\n"
     ]
    },
    {
     "name": "stdout",
     "output_type": "stream",
     "text": [
      "[272006, 423236, 574468, 725696, 876926, 1028156, 1179386, 1330616, 1481846, 1633076, 1784306, 1935536, 2086765, 2237993, 2389223, 2540453]\n"
     ]
    },
    {
     "name": "stderr",
     "output_type": "stream",
     "text": [
      "100%|██████████| 9000000/9000000 [00:16<00:00, 550952.04it/s]\n"
     ]
    },
    {
     "name": "stdout",
     "output_type": "stream",
     "text": [
      "[273743, 424976, 576206, 727436, 878665, 1029893, 1181123, 1332353, 1483583, 1634813, 1786043, 1937273, 2088503, 2239732, 2390962, 2542190]\n"
     ]
    },
    {
     "name": "stderr",
     "output_type": "stream",
     "text": [
      "100%|██████████| 9000000/9000000 [00:16<00:00, 557034.76it/s]\n",
      "/Library/Frameworks/Python.framework/Versions/3.6/lib/python3.6/site-packages/matplotlib/pyplot.py:524: RuntimeWarning: More than 20 figures have been opened. Figures created through the pyplot interface (`matplotlib.pyplot.figure`) are retained until explicitly closed and may consume too much memory. (To control this warning, see the rcParam `figure.max_open_warning`).\n",
      "  max_open_warning, RuntimeWarning)\n"
     ]
    },
    {
     "name": "stdout",
     "output_type": "stream",
     "text": [
      "[323507, 474737, 625967, 777197, 928427, 1079657, 1230887, 1382117, 1533347, 1684576, 1835805, 1987034, 2138264, 2289494, 2440724, 2591954]\n"
     ]
    },
    {
     "name": "stderr",
     "output_type": "stream",
     "text": [
      "100%|██████████| 9000000/9000000 [00:16<00:00, 553324.08it/s]\n"
     ]
    },
    {
     "name": "stdout",
     "output_type": "stream",
     "text": [
      "[277412, 428642, 579872, 731102, 882332, 1033562, 1184792, 1336022, 1487252, 1638482, 1789711, 1940939, 2092169, 2243399, 2394629, 2545859]\n"
     ]
    },
    {
     "name": "stderr",
     "output_type": "stream",
     "text": [
      "100%|██████████| 9000000/9000000 [00:16<00:00, 550556.50it/s]\n"
     ]
    },
    {
     "name": "stdout",
     "output_type": "stream",
     "text": [
      "[304589, 455822, 607052, 758282, 909510, 1060739, 1211969, 1363199, 1514429, 1665659, 1816888, 1968116, 2119346, 2270576, 2421806, 2573035]\n"
     ]
    },
    {
     "name": "stderr",
     "output_type": "stream",
     "text": [
      "100%|██████████| 9000000/9000000 [00:16<00:00, 555207.07it/s]\n"
     ]
    },
    {
     "name": "stdout",
     "output_type": "stream",
     "text": [
      "[284834, 436067, 587297, 738527, 889757, 1040986, 1192216, 1343444, 1494674, 1645904, 1797134, 1948364, 2099594, 2250824, 2402053, 2553283]\n"
     ]
    },
    {
     "name": "stderr",
     "output_type": "stream",
     "text": [
      "100%|██████████| 9000000/9000000 [00:16<00:00, 552457.61it/s]\n"
     ]
    },
    {
     "name": "stdout",
     "output_type": "stream",
     "text": [
      "[278317, 429548, 580778, 732008, 883238, 1034468, 1185698, 1336927, 1488157, 1639385, 1790615, 1941845, 2093075, 2244305, 2395535, 2546764]\n"
     ]
    },
    {
     "name": "stderr",
     "output_type": "stream",
     "text": [
      "100%|██████████| 9000000/9000000 [00:16<00:00, 543633.37it/s]\n"
     ]
    },
    {
     "name": "stdout",
     "output_type": "stream",
     "text": [
      "[265469, 416699, 567929, 719159, 870389, 1021619, 1172849, 1324079, 1475308, 1626536, 1777766, 1928996, 2080226, 2231456, 2382686, 2533915]\n"
     ]
    },
    {
     "name": "stderr",
     "output_type": "stream",
     "text": [
      "100%|██████████| 9000000/9000000 [00:16<00:00, 545558.53it/s]\n"
     ]
    },
    {
     "name": "stdout",
     "output_type": "stream",
     "text": [
      "[328058, 479290, 630520, 781748, 932978, 1084208, 1235438, 1386668, 1537897, 1689126, 1840355, 1991585, 2142815, 2294045, 2445273, 2596502]\n"
     ]
    }
   ],
   "source": [
    "# import numpy as np\n",
    "import baggage_script as bs\n",
    "import numpy as np\n",
    "import pandas as pd\n",
    "from tqdm import tqdm\n",
    "import matplotlib.pyplot as plt\n",
    "import seaborn as sns\n",
    "import urllib\n",
    "from pyheatmap.heatmap import HeatMap\n",
    "\n",
    "\n",
    "# 循环处理所有文件\n",
    "for ia in range(1,4):\n",
    "    for ib in range(1,6):\n",
    "        filePath = '/Users/zhenghao/Desktop/ele_ana_new/ana_workspace/V{}_{}.txt'.format(ia, ib)\n",
    "        data = bs.txt_read_pandas(filePath)\n",
    "        index_list_del = bs.data_raise(data, 1, threshold = 2, delay = 4)\n",
    "        \n",
    "        # 对index_list_del进行处理\n",
    "        a = 1\n",
    "        while a > 0:\n",
    "            if len(index_list_del) != 16:\n",
    "                index_list_del.pop(0)\n",
    "            else:\n",
    "                a = 0\n",
    "        print(index_list_del)\n",
    "        # count the times of firing\n",
    "        sum_array = bs.firing_sum(data, index_list_del)\n",
    "        # 解决一一对应关系\n",
    "        data_sort_A=bs.Sort_Channel(sum_array)\n",
    "        # 求平均\n",
    "        mean_list=[]\n",
    "        for i_1 in range(4):\n",
    "            raw_token = []\n",
    "            for i_2 in range(15):\n",
    "                raw_token.append(np.mean(data_sort_A[i_1*4:i_1*4+4,i_2]))\n",
    "            mean_list.append(raw_token)\n",
    "        mean_array=np.array(mean_list)\n",
    "        # print(mean_array)\n",
    "        plt.figure(figsize=(10,2))\n",
    "        sns.heatmap(mean_array,annot=True)\n",
    "        filename = 'V{}_{}.png'.format(ia, ib)\n",
    "        plt.savefig(filename, dpi = 300)# 保存图片"
   ]
  },
  {
   "cell_type": "code",
   "execution_count": null,
   "metadata": {},
   "outputs": [],
   "source": []
  }
 ],
 "metadata": {
  "kernelspec": {
   "display_name": "Python 3",
   "language": "python",
   "name": "python3"
  },
  "language_info": {
   "codemirror_mode": {
    "name": "ipython",
    "version": 3
   },
   "file_extension": ".py",
   "mimetype": "text/x-python",
   "name": "python",
   "nbconvert_exporter": "python",
   "pygments_lexer": "ipython3",
   "version": "3.6.1"
  }
 },
 "nbformat": 4,
 "nbformat_minor": 2
}
