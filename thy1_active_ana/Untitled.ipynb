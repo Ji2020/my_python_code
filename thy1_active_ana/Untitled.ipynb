{
 "cells": [
  {
   "cell_type": "code",
   "execution_count": 1,
   "metadata": {},
   "outputs": [],
   "source": [
    "import cv2\n",
    "import os\n",
    "import sys\n",
    "import numpy as np\n",
    "from tqdm import tqdm\n",
    "import copy\n",
    "import pandas as pd\n",
    "import random"
   ]
  },
  {
   "cell_type": "code",
   "execution_count": 7,
   "metadata": {},
   "outputs": [
    {
     "name": "stderr",
     "output_type": "stream",
     "text": [
      "  0%|          | 7/1445 [00:00<00:22, 65.29it/s]"
     ]
    },
    {
     "name": "stdout",
     "output_type": "stream",
     "text": [
      "Frame:  1445\n"
     ]
    },
    {
     "name": "stderr",
     "output_type": "stream",
     "text": [
      "100%|██████████| 1445/1445 [00:18<00:00, 78.44it/s]\n"
     ]
    }
   ],
   "source": [
    "# 初始化一个VideoCapture对象\n",
    "cap = cv2.VideoCapture()\n",
    "filepath = '/Users/zhenghao/Desktop/thy1_actice_movie/thy1_ana_active_video.mp4'\n",
    "cap.open(filepath)\n",
    "# 获取视频帧数\n",
    "n_frames = int(cap.get(cv2.CAP_PROP_FRAME_COUNT))\n",
    "print('Frame: ', n_frames)\n",
    "for i in tqdm(range(int(n_frames))):\n",
    "    nap, frame = cap.read()\n",
    "    # 640+265\n",
    "    imagepath = '/Users/zhenghao/Desktop/thy1_actice_movie/ana/frame_{}.jpg'.format(i)\n",
    "    #if frame[480,640+265,0] > 200:\n",
    "    cv2.imwrite(imagepath, frame[480:480+360,640:1280,:])# 修改导出视频的范围, 以加快速度"
   ]
  },
  {
   "cell_type": "code",
   "execution_count": null,
   "metadata": {},
   "outputs": [],
   "source": []
  }
 ],
 "metadata": {
  "kernelspec": {
   "display_name": "Python 3",
   "language": "python",
   "name": "python3"
  },
  "language_info": {
   "codemirror_mode": {
    "name": "ipython",
    "version": 3
   },
   "file_extension": ".py",
   "mimetype": "text/x-python",
   "name": "python",
   "nbconvert_exporter": "python",
   "pygments_lexer": "ipython3",
   "version": "3.6.1"
  }
 },
 "nbformat": 4,
 "nbformat_minor": 2
}
