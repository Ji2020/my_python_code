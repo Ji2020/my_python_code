{
 "cells": [
  {
   "cell_type": "code",
   "execution_count": 1,
   "metadata": {},
   "outputs": [],
   "source": [
    "from tqdm import tqdm\n",
    "import numpy as np\n",
    "import pandas as pd\n",
    "import baggage_script as bs\n",
    "import matplotlib.pyplot as plt\n"
   ]
  },
  {
   "cell_type": "code",
   "execution_count": 13,
   "metadata": {},
   "outputs": [],
   "source": [
    "filePath = '/Users/zhenghao/Documents/pythonfile/my_python_code/CED/Volt_jump_result.csv'\n",
    "data = np.loadtxt(filePath,dtype=np.float,delimiter=',')\n",
    "data_num = 9"
   ]
  },
  {
   "cell_type": "code",
   "execution_count": 15,
   "metadata": {},
   "outputs": [
    {
     "name": "stdout",
     "output_type": "stream",
     "text": [
      "[[31.677265222222221, 25.996452555555557, 24.809629166666667, 21.988785444444446, 18.633403166666668, 14.720799500000002, 4.2736173888888898, 1.2988227777777777, 0.10107883333333333], [34.382062055555551, 32.140603611111118, 29.4953805, 25.590287388888893, 20.338946222222226, 14.780090555555555, 4.0988636111111116, 2.0822413333333332, 0.17321211111111115], [37.10271383333334, 34.823625, 30.478069888888886, 22.791009944444447, 21.664219500000002, 14.513630500000001, 6.3153950000000005, 0.78726744444444441, 0.093042499999999972], [32.300660444444446, 30.362872944444447, 31.358288777777776, 29.265439888888888, 30.269842611111109, 27.503857611111112, 13.439055833333335, 7.6886259999999993, 0.27301011111111112]]\n"
     ]
    }
   ],
   "source": [
    "data_mean = []\n",
    "for i in range(4):\n",
    "    raw_mean = []\n",
    "    for raw in range(data_num):\n",
    "        item_mean = np.mean(data[raw,i*4:i*4+4])# item_mean = np.mean(data[raw,i*10:i*10+10])\n",
    "        raw_mean.append(item_mean)\n",
    "    data_mean.append(raw_mean)\n",
    "print(data_mean)"
   ]
  },
  {
   "cell_type": "code",
   "execution_count": 16,
   "metadata": {},
   "outputs": [
    {
     "name": "stdout",
     "output_type": "stream",
     "text": [
      "[[0.34726087137405909, 0.58323507721529744, 1.0173426023129697, 0.45999019176632888, 1.174819949913751, 1.0873336113728247, 1.9635496094023779, 0.30406406623497234, 0.0073388994303482209], [0.48992589917854795, 0.4945765455940217, 0.58491626517617035, 0.78054945243819451, 0.70859524489086878, 1.9167471835347651, 0.15650611948990067, 0.036516219133116506, 0.043254650810385674], [1.2254387962527993, 0.33425133204851798, 1.5647434641643496, 2.7572200799940618, 0.8712418307044788, 0.87599301660895856, 1.0481047421056535, 0.11940188508474277, 0.0057372926603919249], [1.287373851555345, 0.28051092482602086, 0.48154586172649966, 0.6573707034632843, 1.3164153281146929, 1.8739094663357732, 0.7346208253669716, 1.6572982733113226, 0.1044822377061595]]\n"
     ]
    }
   ],
   "source": [
    "data_sem=[]\n",
    "for i in range(4):\n",
    "    raw_sem=[]\n",
    "    for raw in range(data_num):\n",
    "        item_raw=np.std(data[raw,i*4:i*4+4])\n",
    "        #item_raw=item_raw/(10**0.5)\n",
    "        raw_sem.append(item_raw)\n",
    "    data_sem.append(raw_sem)\n",
    "print(data_sem)"
   ]
  },
  {
   "cell_type": "code",
   "execution_count": 17,
   "metadata": {},
   "outputs": [],
   "source": [
    "data_mean=np.array(data_mean)\n",
    "data_sem=np.array(data_sem)\n",
    "plt.figure(figsize=(8,5))\n",
    "x = np.array([3.5,3.4,3.3,3.2,3.1,3.0,2.9,2.8,2.7])\n",
    "\n",
    "y = data_mean[0,0:9]\n",
    "yerr = data_sem[0,0:9]\n",
    "plt.errorbar(x,y,yerr=yerr,label = 'gastrocnemius muscle-LED1')\n",
    "\n",
    "y = data_mean[1,0:9]\n",
    "yerr = data_sem[1,0:9]\n",
    "plt.errorbar(x,y,yerr=yerr,label = 'gastrocnemius muscle-LED2')\n",
    "\n",
    "y = data_mean[2,0:9]\n",
    "yerr = data_sem[2,0:9]\n",
    "plt.errorbar(x,y,yerr=yerr,label = 'tibialis anterior muscle-LED1')\n",
    "\n",
    "y = data_mean[3,0:9]\n",
    "yerr = data_sem[3,0:9]\n",
    "plt.errorbar(x,y,yerr=yerr,label = 'tibialis anterior muscle-LED2')"
   ]
  },
  {
   "cell_type": "code",
   "execution_count": null,
   "metadata": {},
   "outputs": [],
   "source": []
  }
 ],
 "metadata": {
  "kernelspec": {
   "display_name": "Python 3",
   "language": "python",
   "name": "python3"
  },
  "language_info": {
   "codemirror_mode": {
    "name": "ipython",
    "version": 3
   },
   "file_extension": ".py",
   "mimetype": "text/x-python",
   "name": "python",
   "nbconvert_exporter": "python",
   "pygments_lexer": "ipython3",
   "version": "3.6.1"
  }
 },
 "nbformat": 4,
 "nbformat_minor": 2
}
